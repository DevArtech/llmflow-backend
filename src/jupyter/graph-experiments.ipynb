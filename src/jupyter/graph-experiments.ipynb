{
 "cells": [
  {
   "cell_type": "markdown",
   "metadata": {},
   "source": [
    "# Graph Traversal Experiments\n",
    "Adam Haile - 7/26/2024\n",
    "\n",
    "The goal of these experiments are to refine the current graph system utilized by LLMFlow. This notebook contains a group of multiple experiments including graph DFS denial, and graph implementation systems which would prevent loops from occurring."
   ]
  },
  {
   "cell_type": "markdown",
   "metadata": {},
   "source": [
    "## Experiment 1: DFS Loop Detection\n",
    "\n",
    "Create a graph which automatically detects and denies nodes from being added which would create a cycle. This method only works for directed graphs."
   ]
  },
  {
   "cell_type": "code",
   "execution_count": 16,
   "metadata": {},
   "outputs": [],
   "source": [
    "class Graph:\n",
    "    def __init__(self):\n",
    "        self.graph = {}\n",
    "\n",
    "    def add_node(self, node):\n",
    "        if node not in self.graph:\n",
    "            self.graph[node] = []\n",
    "\n",
    "    def add_edge(self, u, v):\n",
    "        self.add_node(u)\n",
    "        self.add_node(v)\n",
    "        self.graph[u].append(v)\n",
    "        \n",
    "        if self._has_cycle():\n",
    "            self.graph[u].remove(v)  # Remove edge if it creates a cycle\n",
    "            print(f\"Adding edge {u} -> {v} creates a cycle. Edge not added.\")\n",
    "        else:\n",
    "            print(f\"Edge {u} -> {v} added successfully.\")\n",
    "\n",
    "    def _has_cycle(self):\n",
    "        visited = set()\n",
    "        recursion_stack = set()\n",
    "\n",
    "        def dfs(node):\n",
    "            if node not in visited:\n",
    "                visited.add(node)\n",
    "                recursion_stack.add(node)\n",
    "\n",
    "                for neighbor in self.graph[node]:\n",
    "                    if neighbor not in visited and dfs(neighbor):\n",
    "                        return True\n",
    "                    elif neighbor in recursion_stack:\n",
    "                        return True\n",
    "\n",
    "                recursion_stack.remove(node)\n",
    "            return False\n",
    "\n",
    "        for node in self.graph:\n",
    "            if node not in visited:\n",
    "                if dfs(node):\n",
    "                    return True\n",
    "        return False"
   ]
  },
  {
   "cell_type": "code",
   "execution_count": 17,
   "metadata": {},
   "outputs": [],
   "source": [
    "g = Graph()\n",
    "g.add_node('A') # A\n",
    "g.add_node('B') # B\n",
    "g.add_node('C') # C\n",
    "g.add_node('D') # D\n",
    "g.add_node('E') # E"
   ]
  },
  {
   "cell_type": "code",
   "execution_count": 20,
   "metadata": {},
   "outputs": [
    {
     "name": "stdout",
     "output_type": "stream",
     "text": [
      "Edge A -> B added successfully.\n",
      "Edge B -> C added successfully.\n",
      "Adding edge C -> A creates a cycle. Edge not added.\n",
      "Adding edge C -> B creates a cycle. Edge not added.\n",
      "Edge B -> D added successfully.\n",
      "Edge D -> E added successfully.\n",
      "Edge D -> C added successfully.\n"
     ]
    }
   ],
   "source": [
    "g.add_edge('A', 'B') # A -> B\n",
    "g.add_edge('B', 'C') # A -> B -> C\n",
    "g.add_edge('C', 'A') # A -> B -> C -> A (cycle)\n",
    "g.add_edge('C', 'B') # A -> B -> C -> B (cycle)\n",
    "g.add_edge('B', 'D') # A -> B -> D\n",
    "g.add_edge('D', 'E') # A -> B -> D -> E\n",
    "g.add_edge('D', 'C') # A -> B -> D -> C"
   ]
  },
  {
   "cell_type": "markdown",
   "metadata": {},
   "source": [
    "## Experiment 2: Union Find Loop Detection\n",
    "\n",
    "Create a graph which automatically detects and denies nodes from being added which would create a cycle in a directed or undirected graph. This method uses a union find data structure to keep track of the connected components of the graph."
   ]
  },
  {
   "cell_type": "code",
   "execution_count": 21,
   "metadata": {},
   "outputs": [],
   "source": [
    "class UnionFind:\n",
    "    def __init__(self, n):\n",
    "        self.parent = list(range(n))\n",
    "        self.rank = [0] * n\n",
    "\n",
    "    def find(self, u):\n",
    "        if self.parent[u] != u:\n",
    "            self.parent[u] = self.find(self.parent[u])\n",
    "        return self.parent[u]\n",
    "\n",
    "    def union(self, u, v):\n",
    "        root_u = self.find(u)\n",
    "        root_v = self.find(v)\n",
    "        if root_u != root_v:\n",
    "            if self.rank[root_u] > self.rank[root_v]:\n",
    "                self.parent[root_v] = root_u\n",
    "            elif self.rank[root_u] < self.rank[root_v]:\n",
    "                self.parent[root_u] = root_v\n",
    "            else:\n",
    "                self.parent[root_v] = root_u\n",
    "                self.rank[root_u] += 1\n",
    "            return True\n",
    "        return False\n",
    "\n",
    "class Graph:\n",
    "    def __init__(self):\n",
    "        self.graph = {}\n",
    "        self.node_index = {}\n",
    "        self.index = 0\n",
    "        self.uf = UnionFind(1000)  # Initialize with a large number for simplicity\n",
    "\n",
    "    def add_node(self, node):\n",
    "        if node not in self.node_index:\n",
    "            self.node_index[node] = self.index\n",
    "            self.index += 1\n",
    "            self.graph[node] = []\n",
    "\n",
    "    def add_edge(self, u, v):\n",
    "        self.add_node(u)\n",
    "        self.add_node(v)\n",
    "        if self.uf.union(self.node_index[u], self.node_index[v]):\n",
    "            self.graph[u].append(v)\n",
    "            self.graph[v].append(u)\n",
    "            print(f\"Edge {u} <-> {v} added successfully.\")\n",
    "        else:\n",
    "            print(f\"Adding edge {u} <-> {v} creates a cycle. Edge not added.\")"
   ]
  },
  {
   "cell_type": "code",
   "execution_count": 22,
   "metadata": {},
   "outputs": [],
   "source": [
    "# Usage\n",
    "g = Graph()\n",
    "g.add_node('A') # A\n",
    "g.add_node('B') # B\n",
    "g.add_node('C') # C\n",
    "g.add_node('D') # D\n",
    "g.add_node('E') # E"
   ]
  },
  {
   "cell_type": "code",
   "execution_count": 23,
   "metadata": {},
   "outputs": [
    {
     "name": "stdout",
     "output_type": "stream",
     "text": [
      "Edge A <-> B added successfully.\n",
      "Edge B <-> C added successfully.\n",
      "Adding edge C <-> A creates a cycle. Edge not added.\n",
      "Adding edge C <-> B creates a cycle. Edge not added.\n",
      "Edge B <-> D added successfully.\n",
      "Edge D <-> E added successfully.\n",
      "Adding edge D <-> C creates a cycle. Edge not added.\n"
     ]
    }
   ],
   "source": [
    "g.add_edge('A', 'B') # A <-> B\n",
    "g.add_edge('B', 'C') # B <-> C\n",
    "g.add_edge('C', 'A') # C <-> A (creates a cycle, edge not added)\n",
    "g.add_edge('C', 'B') # C <-> B (creates a cycle, edge not added)\n",
    "g.add_edge('B', 'D') # B <-> D\n",
    "g.add_edge('D', 'E') # D <-> E\n",
    "g.add_edge('D', 'C') # D <-> C (creates a cycle, edge not added)"
   ]
  }
 ],
 "metadata": {
  "kernelspec": {
   "display_name": "Python 3",
   "language": "python",
   "name": "python3"
  },
  "language_info": {
   "codemirror_mode": {
    "name": "ipython",
    "version": 3
   },
   "file_extension": ".py",
   "mimetype": "text/x-python",
   "name": "python",
   "nbconvert_exporter": "python",
   "pygments_lexer": "ipython3",
   "version": "3.11.4"
  }
 },
 "nbformat": 4,
 "nbformat_minor": 2
}
